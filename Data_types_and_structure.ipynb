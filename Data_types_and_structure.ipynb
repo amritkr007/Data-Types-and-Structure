{
  "nbformat": 4,
  "nbformat_minor": 0,
  "metadata": {
    "colab": {
      "provenance": []
    },
    "kernelspec": {
      "name": "python3",
      "display_name": "Python 3"
    },
    "language_info": {
      "name": "python"
    }
  },
  "cells": [
    {
      "cell_type": "markdown",
      "source": [
        "1.What are data structures, and why are they important\n",
        "\n",
        "   -> A data structure is a way of organizing, managing, and storing data to enable efficient access and modification. They define how data is arranged in memory and how operations like searching, inserting, deleting, and sorting are performed on that data.\n",
        "   \n",
        "   they are important for efficient file handling , enhance algorithms performance and enable complex problem solving.\n",
        "   \n",
        "2.Explain the difference between mutable and immutable data types with examples\n",
        "\n",
        " -> In Python, mutable data types can be changed after creation, while immutable data types cannot be modified after they are created.\n",
        "\n",
        " ex : list  , dictionary , set\n",
        "\n",
        " Immutable objects do not allow modifications after creation. Any operation that attempts to modify them results in a new object being created.\n",
        "\n",
        " example :- string , tuple\n",
        "\n",
        "3.What are the main differences between lists and tuples in Python\n",
        "\n",
        "-> now we discuss the key difference of list and tuple , firstly we discuss about list:\n",
        "\n",
        "  . it is mutable\n",
        "\n",
        "  . syntax=my_list=[1,2,3]\n",
        "\n",
        "  . it is slower\n",
        "\n",
        "  . it is slower consumes more memory due to mutability\n",
        "\n",
        "  . it is used when data need modification\n",
        "\n",
        "now we discuss about tuples\n",
        "\n",
        "  . it is immutable\n",
        "\n",
        "  . syntax = my_tuple = (1,2,3)\n",
        "\n",
        "  . it is faster because it has fixed size\n",
        "\n",
        "  . it consumes less memory due to immutability\n",
        "\n",
        "  . it used when data should remain constant\n",
        "\n",
        "4.Describe how dictionaries store data\n",
        "\n",
        "-> A dictionary in Python is a key-value pair data structure that allows fast data retrieval using keys instead of numerical indexes. It is implemented using a hash table.\n",
        "\n",
        "A dictionary is defined using curly braces {} with key-value pairs:\n",
        "\n",
        "Keys: Must be immutable (e.g., strings, numbers, tuples).\n",
        "\n",
        "Values: Can be of any data type (lists, other dictionaries, etc.).\n",
        "\n",
        "5.Why might you use a set instead of a list in Python\n",
        "\n",
        " -> we use set instesd of list because of following reasons\n",
        "    \n",
        "  .for uniqueness\n",
        "\n",
        "  .fast memebership testing\n",
        "\n",
        "  .efficient set operation\n",
        "\n",
        "  .performance on large data set\n",
        "\n",
        "6.What is a string in Python, and how is it different from a list\n",
        "\n",
        " -> A string in Python is an immutable sequence of characters, enclosed in either single (''), double (\"\"), or triple (''' or \"\"\") quotes. Strings are used to store and manipulate text.\n",
        "\n",
        " .string is immutable\n",
        "\n",
        " .it only contain characters\n",
        "\n",
        " .cannot modify character directly\n",
        "\n",
        " .more memory efficient for text handling\n",
        "\n",
        " now we discuss about list\n",
        "\n",
        " .list is mutable\n",
        "\n",
        " .can contain any data types\n",
        "\n",
        " .can modify elements\n",
        "\n",
        " .more flexible but uses more memory of modified freequently\n",
        "\n",
        "7.How do tuples ensure data integrity in Python\n",
        "\n",
        " -> A tuple in Python ensures data integrity primarily through its immutability. Once a tuple is created, its elements cannot be changed, added, or removed, making it a reliable way to store fixed data. Here’s how tuples help maintain data integrity:\n",
        "\n",
        ". immutability preventa accidental modification\n",
        "\n",
        ". safe data transfer between functions\n",
        "\n",
        "8.What is a hash table, and how does it relate to dictionaries in Python\n",
        "\n",
        "-> A hash table is a data structure that maps keys to values using a hash function. It allows for fast lookups, insertions, and deletions with an average O(1) time complexity.\n",
        "\n",
        "now we discuss how hash table relate to dictionary in python\n",
        "\n",
        "In Python, a dictionary (dict) is implemented using a hash table. When you store a key-value pair in a dictionary:\n",
        "\n",
        ".The key is hashed using Python’s built-in hash function (hash(key)).\n",
        "\n",
        ".The hash determines an index in an internal array.\n",
        "\n",
        ".The value is stored at that index.\n",
        "\n",
        "now we discuss why we use hash table for dictionary\n",
        "\n",
        ". fast lookup\n",
        "\n",
        ". uniqueness\n",
        "\n",
        ". efficient memeory use\n",
        "\n",
        "9.Can lists contain different data types in Python\n",
        "\n",
        " -> Yes, lists in Python can contain different data types because they are heterogeneous data structures. A single list can store integers, floats, strings, booleans, other lists, dictionaries, tuples, and even functions.\n",
        "\n",
        "10.Explain why strings are immutable in Python\n",
        "\n",
        " -> Strings in Python are immutable, meaning they cannot be changed after creation. This design choice is intentional and offers several benefits\n",
        "\n",
        " now we discuss several benefits of lists\n",
        "\n",
        " . memeory efficient\n",
        "\n",
        " . hashability\n",
        "\n",
        " . simplifies string manipulation\n",
        "\n",
        " . security and threads safety\n",
        "\n",
        "11.What advantages do dictionaries offer over lists for certain tasks\n",
        "\n",
        " -> Dictionaries (dict) offer several advantages over lists (list) for specific tasks due to their key-value structure and hash table implementation.\n",
        "\n",
        " 1.Fast Lookups (O(1)) vs. Slow Search (O(n))\n",
        "\n",
        "  Dictionaries provide O(1) average-time complexity for lookups using keys.\n",
        "\n",
        "  Lists require O(n) time to search for an element.\n",
        "\n",
        "12.Describe a scenario where using a tuple would be preferable over a list\n",
        "\n",
        " -> A tuple would be preferable over a list in scenarios where immutability is required, meaning the data should remain constant throughout the program's execution. Here’s an example:\n",
        "\n",
        "Scenario: Using Tuples for Dictionary Keys\n",
        "\n",
        "Imagine you're developing a system that tracks the coordinates of various landmarks. Since dictionary keys must be immutable, using a tuple is the best choice over a list.\n",
        "\n",
        "13.How do sets handle duplicate values in Python\n",
        "\n",
        " -> In Python, sets automatically remove duplicate values. When you add elements to a set, it only keeps unique values and discards duplicates.\n",
        "\n",
        " .Sets use hash-based storage, which ensures each value is unique.\n",
        "\n",
        " .When adding elements, Python checks if the value already exists in the set.\n",
        "\n",
        " .If a duplicate is found, it is ignored.\n",
        "\n",
        " .if you attempt to add a duplicate to an existing set, it will have no effect.\n",
        "\n",
        " Sets automatically remove duplicates and ensure all elements remain unique, making them ideal for duplicate filtering and membership testing\n",
        "\n",
        "14.How does the “in” keyword work differently for lists and dictionaries\n",
        "\n",
        " -> The in keyword is used to check membership in lists and dictionaries, but it behaves differently in each case:\n",
        "\n",
        " \"in\" in list\n",
        "\n",
        " .Checks if a value exists anywhere in the list.\n",
        "\n",
        " .It scans the entire list until a match is found (O(n) time complexity in worst case).\n",
        "\n",
        " \"in\" in dictionary\n",
        "\n",
        " .Checks if a key exists in the dictionary (not values).\n",
        "\n",
        " .It is much faster than lists because dictionaries use a hash table (O(1) average time complexity).\n",
        "\n",
        "15.Can you modify the elements of a tuple? Explain why or why not\n",
        "\n",
        " -> No, you cannot modify the elements of a tuple in Python because tuples are immutable. This means that once a tuple is created, its elements cannot be changed, added, or removed.\n",
        "\n",
        "why are tuple immutable\n",
        "\n",
        "1.memory efficient and speed\n",
        "\n",
        "2.hashability\n",
        "\n",
        "3.data integrity\n",
        "\n",
        "now we discuss can we modify elements of a tuple\n",
        "\n",
        "While we cannot modify a tuple itself, we can modify mutable elements inside a tuple (like lists or dictionaries).\n",
        "\n",
        "16.What is a nested dictionary, and give an example of its use case\n",
        "\n",
        " -> A nested dictionary is a dictionary inside another dictionary. It allows you to store structured and hierarchical data, making it useful for representing complex relationships.\n",
        "\n",
        " example use case :\n",
        "\n",
        " Imagine you’re building a student database where each student has multiple attributes (name, age, and grades). A nested dictionary can organize this data efficiently.\n",
        "\n",
        "17.Describe the time complexity of accessing elements in a dictionary\n",
        "\n",
        " -> n Python, accessing an element in a dictionary has an average time complexity of O(1) (constant time). This is because dictionaries use a hash table internally, allowing for fast lookups.\n",
        "\n",
        "1.Best Case O(1) (average case)\n",
        "\n",
        "2.Worst Case O(n) (rare case)\n",
        "\n",
        "18.In what situations are lists preferred over dictionaries\n",
        "\n",
        " -> Lists and dictionaries serve different purposes in Python. Lists are preferred over dictionaries in the following scenarios:\n",
        "\n",
        "1.when order matters\n",
        "\n",
        "2.when you need indexed access\n",
        "\n",
        "3.when you have a simple collection of values\n",
        "\n",
        "4.when memory efficiency matters\n",
        "\n",
        "5.when you need to iterate over all elements quickly\n",
        "\n",
        "19.Why are dictionaries considered unordered, and how does that affect data retrieval\n",
        "\n",
        " -> dictionaries in Python were considered unordered because they used a hash table for storing key-value pairs, meaning the order of items was not guaranteed before Python 3.7.\n",
        "\n",
        " 1.Prior to Python 3.7: The insertion order of keys was not preserved—retrieving items could return them in an arbitrary order.\n",
        "\n",
        " 2.Python 3.7 and later: Dictionaries preserve insertion order, but they are still fundamentally implemented using a hash table, so order preservation is more of a side effect than a core feature.\n",
        "\n",
        " how does this affect data retrieval\n",
        "\n",
        " 1.No indexed access\n",
        "\n",
        " 2.iteration order was unpredicatable (before python 3.7)\n",
        "\n",
        " 3.efficiency in lookups\n",
        "\n",
        "20.Explain the difference between a list and a dictionary in terms of data retrieval\n",
        "\n",
        " -> Both lists and dictionaries store data, but they retrieve data differently because of their underlying structures.\n",
        "\n",
        "1.Retrieval in a List (O(n) in worst case)\n",
        "\n",
        ".Lists store elements sequentially and use index-based access.\n",
        "\n",
        ".Retrieving an item by index is fast (O(1)).\n",
        "\n",
        ".Retrieving an item by value requires a linear search (O(n)) if the index is\n",
        " unknown.\n",
        "\n",
        "2.Retrieval in a Dictionary (O(1) on average)\n",
        "\n",
        ".Dictionaries use key-value pairs instead of indexes.\n",
        "\n",
        ".Retrieving a value by key is extremely fast (O(1)) due to hashing.\n",
        "\n",
        ".No need to search through the entire structure like in lists."
      ],
      "metadata": {
        "id": "57uxB4pYaeh8"
      }
    },
    {
      "cell_type": "code",
      "source": [
        "# 1.Write a code to create a string with your name and print it\n",
        "name = \"Amrit Kumar\"\n",
        "print(name)"
      ],
      "metadata": {
        "colab": {
          "base_uri": "https://localhost:8080/"
        },
        "id": "1ne97IqY12vU",
        "outputId": "73417f50-aaf1-431b-b013-ec290ac0bb57"
      },
      "execution_count": 1,
      "outputs": [
        {
          "output_type": "stream",
          "name": "stdout",
          "text": [
            "Amrit Kumar\n"
          ]
        }
      ]
    },
    {
      "cell_type": "code",
      "source": [
        "# 2.Write a code to find the length of the string \"Hello World\"\n",
        "text = \"Hello World\"\n",
        "print(len(text))"
      ],
      "metadata": {
        "id": "TmFQxwBkmVzP",
        "colab": {
          "base_uri": "https://localhost:8080/"
        },
        "outputId": "0cfaccca-0cab-4260-b28c-29f762033b72"
      },
      "execution_count": 2,
      "outputs": [
        {
          "output_type": "stream",
          "name": "stdout",
          "text": [
            "11\n"
          ]
        }
      ]
    },
    {
      "cell_type": "code",
      "source": [
        "# 3.Write a code to slice the first 3 characters from the string \"Python Programming\"\n",
        "text = \"Python Programming\"\n",
        "first_three = text[:3]\n",
        "print(first_three)"
      ],
      "metadata": {
        "id": "Nsh9hSpeaduu",
        "colab": {
          "base_uri": "https://localhost:8080/"
        },
        "outputId": "62322022-2f85-4121-8e90-3333e8ed11eb"
      },
      "execution_count": 3,
      "outputs": [
        {
          "output_type": "stream",
          "name": "stdout",
          "text": [
            "Pyt\n"
          ]
        }
      ]
    },
    {
      "cell_type": "code",
      "execution_count": 4,
      "metadata": {
        "id": "b7VTewmrabLU",
        "colab": {
          "base_uri": "https://localhost:8080/"
        },
        "outputId": "da925b8b-b4ec-4b39-fb17-88821f5279ef"
      },
      "outputs": [
        {
          "output_type": "stream",
          "name": "stdout",
          "text": [
            "HELLO\n"
          ]
        }
      ],
      "source": [
        "# 4.Write a code to convert the string \"hello\" to uppercase\n",
        "text = \"hello\"\n",
        "uppercase_text = text.upper()\n",
        "print(uppercase_text)"
      ]
    },
    {
      "cell_type": "code",
      "source": [
        "# 5.Write a code to replace the word \"apple\" with \"orange\" in the string \"I like apple\"\n",
        "text = \"I like apple\"\n",
        "new_text = text.replace(\"apple\", \"orange\")\n",
        "print(new_text)"
      ],
      "metadata": {
        "colab": {
          "base_uri": "https://localhost:8080/"
        },
        "id": "yaWLaMy795Xa",
        "outputId": "613aa936-20b5-4ac6-f5e2-acb349fb0366"
      },
      "execution_count": 5,
      "outputs": [
        {
          "output_type": "stream",
          "name": "stdout",
          "text": [
            "I like orange\n"
          ]
        }
      ]
    },
    {
      "cell_type": "code",
      "source": [
        "# 6.Write a code to create a list with numbers 1 to 5 and print it\n",
        "numbers = [1, 2, 3, 4, 5]\n",
        "print(numbers)"
      ],
      "metadata": {
        "colab": {
          "base_uri": "https://localhost:8080/"
        },
        "id": "XzMJplgH97Yr",
        "outputId": "332dc13e-7210-4d74-e178-f0cca4e2e5c5"
      },
      "execution_count": 6,
      "outputs": [
        {
          "output_type": "stream",
          "name": "stdout",
          "text": [
            "[1, 2, 3, 4, 5]\n"
          ]
        }
      ]
    },
    {
      "cell_type": "code",
      "source": [
        "#  7.Write a code to append the number 10 to the list [1, 2, 3, 4]\n",
        "numbers = [1, 2, 3, 4]\n",
        "numbers.append(10)\n",
        "print(numbers)"
      ],
      "metadata": {
        "colab": {
          "base_uri": "https://localhost:8080/"
        },
        "id": "lTk1W8G1965w",
        "outputId": "431390fe-0fda-44fd-e254-c936b32fed48"
      },
      "execution_count": 7,
      "outputs": [
        {
          "output_type": "stream",
          "name": "stdout",
          "text": [
            "[1, 2, 3, 4, 10]\n"
          ]
        }
      ]
    },
    {
      "cell_type": "code",
      "source": [
        "# 8.Write a code to remove the number 3 from the list [1, 2, 3, 4, 5]\n",
        "numbers = [1, 2, 3, 4, 5]\n",
        "numbers.remove(3)\n",
        "print(numbers)"
      ],
      "metadata": {
        "colab": {
          "base_uri": "https://localhost:8080/"
        },
        "id": "uKjIsprb_RqA",
        "outputId": "fa85727d-6956-4fff-df44-69188a59c996"
      },
      "execution_count": 8,
      "outputs": [
        {
          "output_type": "stream",
          "name": "stdout",
          "text": [
            "[1, 2, 4, 5]\n"
          ]
        }
      ]
    },
    {
      "cell_type": "code",
      "source": [
        "# 9.Write a code to access the second element in the list ['a', 'b', 'c', 'd']\n",
        "letters = ['a', 'b', 'c', 'd']\n",
        "second_element = letters[1]\n",
        "print(second_element)"
      ],
      "metadata": {
        "colab": {
          "base_uri": "https://localhost:8080/"
        },
        "id": "acJrQhwF_Rmh",
        "outputId": "ee9885e4-a790-40b8-dc62-c737f441d2cc"
      },
      "execution_count": 9,
      "outputs": [
        {
          "output_type": "stream",
          "name": "stdout",
          "text": [
            "b\n"
          ]
        }
      ]
    },
    {
      "cell_type": "code",
      "source": [
        "# 10.Write a code to reverse the list [10, 20, 30, 40, 50].\n",
        "numbers = [10, 20, 30, 40, 50]\n",
        "numbers.reverse()\n",
        "print(numbers)"
      ],
      "metadata": {
        "colab": {
          "base_uri": "https://localhost:8080/"
        },
        "id": "nVnbeI-S_RiY",
        "outputId": "ff31672f-c3b0-40b2-f530-eb643da41bb9"
      },
      "execution_count": 10,
      "outputs": [
        {
          "output_type": "stream",
          "name": "stdout",
          "text": [
            "[50, 40, 30, 20, 10]\n"
          ]
        }
      ]
    },
    {
      "cell_type": "code",
      "source": [
        "# 11.Write a code to create a tuple with the elements 100, 200, 300 and print it.\n",
        "numbers = (100, 200, 300)\n",
        "print(numbers)"
      ],
      "metadata": {
        "colab": {
          "base_uri": "https://localhost:8080/"
        },
        "id": "Cz0WF1m9_RfC",
        "outputId": "e4e340f3-2fb3-4561-a63d-496c5497d3f6"
      },
      "execution_count": 11,
      "outputs": [
        {
          "output_type": "stream",
          "name": "stdout",
          "text": [
            "(100, 200, 300)\n"
          ]
        }
      ]
    },
    {
      "cell_type": "code",
      "source": [
        "# 12.Write a code to access the second-to-last element of the tuple ('red', 'green', 'blue', 'yellow').\n",
        "colors = ('red', 'green', 'blue', 'yellow')\n",
        "second_to_last = colors[1:]\n",
        "print(second_to_last)"
      ],
      "metadata": {
        "colab": {
          "base_uri": "https://localhost:8080/"
        },
        "id": "c5bbPOqW_Raz",
        "outputId": "f7f54c32-1351-42d0-e203-c753c260ab44"
      },
      "execution_count": 12,
      "outputs": [
        {
          "output_type": "stream",
          "name": "stdout",
          "text": [
            "('green', 'blue', 'yellow')\n"
          ]
        }
      ]
    },
    {
      "cell_type": "code",
      "source": [
        "# 13.Write a code to find the minimum number in the tuple (10, 20, 5, 15).\n",
        "numbers = (10, 20, 5, 15)\n",
        "min_number = min(numbers)\n",
        "print(min_number)"
      ],
      "metadata": {
        "colab": {
          "base_uri": "https://localhost:8080/"
        },
        "id": "wNLApxXN_RW4",
        "outputId": "e8edba25-e0e7-41be-dfba-2369334dfd86"
      },
      "execution_count": 13,
      "outputs": [
        {
          "output_type": "stream",
          "name": "stdout",
          "text": [
            "5\n"
          ]
        }
      ]
    },
    {
      "cell_type": "code",
      "source": [
        "# 14.Write a code to find the index of the element \"cat\" in the tuple ('dog', 'cat', 'rabbit')\n",
        "animals = ('dog', 'cat', 'rabbit')\n",
        "cat_index = animals.index('cat')\n",
        "print(cat_index)"
      ],
      "metadata": {
        "colab": {
          "base_uri": "https://localhost:8080/"
        },
        "id": "EwL8CqMD_RPp",
        "outputId": "b33b8f0d-b76e-41fe-e115-f5b9924f673b"
      },
      "execution_count": 14,
      "outputs": [
        {
          "output_type": "stream",
          "name": "stdout",
          "text": [
            "1\n"
          ]
        }
      ]
    },
    {
      "cell_type": "code",
      "source": [
        "# 15.Write a code to create a tuple containing three different fruits and check if \"kiwi\" is in it.\n",
        "fruits = ('apple', 'banana', 'orange')\n",
        "is_kiwi_present = \"kiwi\" in fruits\n",
        "print(is_kiwi_present)"
      ],
      "metadata": {
        "colab": {
          "base_uri": "https://localhost:8080/"
        },
        "id": "orpOHYNa_RA4",
        "outputId": "b66f20cb-c361-4c71-c787-f2e661c95b44"
      },
      "execution_count": 15,
      "outputs": [
        {
          "output_type": "stream",
          "name": "stdout",
          "text": [
            "False\n"
          ]
        }
      ]
    },
    {
      "cell_type": "code",
      "source": [
        "# 16.Write a code to create a set with the elements 'a', 'b', 'c' and print it\n",
        "my_set = {'a', 'b', 'c'}\n",
        "print(my_set)"
      ],
      "metadata": {
        "colab": {
          "base_uri": "https://localhost:8080/"
        },
        "id": "20dPjJd1C6MU",
        "outputId": "83370c1f-b738-4964-8225-f1a789194501"
      },
      "execution_count": 16,
      "outputs": [
        {
          "output_type": "stream",
          "name": "stdout",
          "text": [
            "{'a', 'c', 'b'}\n"
          ]
        }
      ]
    },
    {
      "cell_type": "code",
      "source": [
        "# 17.Write a code to clear all elements from the set {1, 2, 3, 4, 5}\n",
        "numbers = {1, 2, 3, 4, 5}\n",
        "numbers.clear()\n",
        "print(numbers)"
      ],
      "metadata": {
        "colab": {
          "base_uri": "https://localhost:8080/"
        },
        "id": "KSvyReEmC6IC",
        "outputId": "007aec7c-1a9b-4f12-df5c-58c13b801726"
      },
      "execution_count": 17,
      "outputs": [
        {
          "output_type": "stream",
          "name": "stdout",
          "text": [
            "set()\n"
          ]
        }
      ]
    },
    {
      "cell_type": "code",
      "source": [
        "# 18.Write a code to remove the element 4 from the set {1, 2, 3, 4}\n",
        "numbers = {1, 2, 3, 4}\n",
        "numbers.remove(4)\n",
        "print(numbers)"
      ],
      "metadata": {
        "colab": {
          "base_uri": "https://localhost:8080/"
        },
        "id": "xd8DbzwoC6D4",
        "outputId": "da6a4696-182a-4a03-e0bf-4c89392cc0be"
      },
      "execution_count": 25,
      "outputs": [
        {
          "output_type": "stream",
          "name": "stdout",
          "text": [
            "{1, 2, 3}\n"
          ]
        }
      ]
    },
    {
      "cell_type": "code",
      "source": [
        "# 19.Write a code to find the union of two sets {1, 2, 3} and {3, 4, 5}.\n",
        "set1 = {1, 2, 3}\n",
        "set2 = {3, 4, 5}\n",
        "\n",
        "union_set = set1.union(set2)\n",
        "\n",
        "print(union_set)"
      ],
      "metadata": {
        "colab": {
          "base_uri": "https://localhost:8080/"
        },
        "id": "OHqDTODyFVRw",
        "outputId": "bd037545-ef13-45ca-a881-dd04c9fe07cb"
      },
      "execution_count": 24,
      "outputs": [
        {
          "output_type": "stream",
          "name": "stdout",
          "text": [
            "{1, 2, 3, 4, 5}\n"
          ]
        }
      ]
    },
    {
      "cell_type": "code",
      "source": [
        "#  20.Write a code to find the intersection of two sets {1, 2, 3} and {2, 3, 4}.\n",
        "set1 = {1, 2, 3}\n",
        "set2 = {2, 3, 4}\n",
        "\n",
        "intersection_set = set1.intersection(set2)\n",
        "\n",
        "print(intersection_set)"
      ],
      "metadata": {
        "colab": {
          "base_uri": "https://localhost:8080/"
        },
        "id": "G0LEb4GgFhLt",
        "outputId": "a59868e8-bb35-4ca1-8114-2d628f99fd3f"
      },
      "execution_count": 26,
      "outputs": [
        {
          "output_type": "stream",
          "name": "stdout",
          "text": [
            "{2, 3}\n"
          ]
        }
      ]
    },
    {
      "cell_type": "code",
      "source": [
        "# 21.Write a code to create a dictionary with the keys \"name\", \"age\", and \"city\", and print it.\n",
        "person = {\n",
        "    \"name\": \"Amrit Kumar\",\n",
        "    \"age\": 21,\n",
        "    \"city\": \"Bokaro jharkhand\"\n",
        "}\n",
        "\n",
        "print(person)"
      ],
      "metadata": {
        "colab": {
          "base_uri": "https://localhost:8080/"
        },
        "id": "gagZG7bmFhHc",
        "outputId": "8ce4fcfd-fe3e-440d-f39e-c6fe3436b667"
      },
      "execution_count": 27,
      "outputs": [
        {
          "output_type": "stream",
          "name": "stdout",
          "text": [
            "{'name': 'Amrit Kumar', 'age': 21, 'city': 'Bokaro jharkhand'}\n"
          ]
        }
      ]
    },
    {
      "cell_type": "code",
      "source": [
        "# 22. Write a code to add a new key-value pair \"country\": \"USA\" to the dictionary {'name': 'John', 'age': 25}.\n",
        "person = {'name': 'John', 'age': 25}\n",
        "\n",
        "person['country'] = 'USA'\n",
        "\n",
        "print(person)"
      ],
      "metadata": {
        "colab": {
          "base_uri": "https://localhost:8080/"
        },
        "id": "fSWUcGnVFhDX",
        "outputId": "f9f021dd-3515-4cd7-de89-261ab60a3b02"
      },
      "execution_count": 28,
      "outputs": [
        {
          "output_type": "stream",
          "name": "stdout",
          "text": [
            "{'name': 'John', 'age': 25, 'country': 'USA'}\n"
          ]
        }
      ]
    },
    {
      "cell_type": "code",
      "source": [
        "#23.Write a code to access the value associated with the key \"name\" in the dictionary {'name': 'Alice', 'age': 30}.\n",
        "person = {'name': 'Amrit', 'age': 21}\n",
        "\n",
        "name_value = person['name']\n",
        "\n",
        "print(name_value)"
      ],
      "metadata": {
        "colab": {
          "base_uri": "https://localhost:8080/"
        },
        "id": "Z7o68WH0Fg_z",
        "outputId": "c685b274-ecdc-4176-f714-c04001844fa6"
      },
      "execution_count": 30,
      "outputs": [
        {
          "output_type": "stream",
          "name": "stdout",
          "text": [
            "Amrit\n"
          ]
        }
      ]
    },
    {
      "cell_type": "code",
      "source": [
        "#24.Write a code to remove the key \"age\" from the dictionary {'name': 'Bob', 'age': 22, 'city': 'New York'}.\n",
        "person = {'name': 'Bob', 'age': 22, 'city': 'New York'}\n",
        "\n",
        "del person['age']\n",
        "\n",
        "print(person)"
      ],
      "metadata": {
        "colab": {
          "base_uri": "https://localhost:8080/"
        },
        "id": "jP1c8e0rFg7w",
        "outputId": "efd06afb-5c34-4c87-a23c-8ddde510e299"
      },
      "execution_count": 31,
      "outputs": [
        {
          "output_type": "stream",
          "name": "stdout",
          "text": [
            "{'name': 'Bob', 'city': 'New York'}\n"
          ]
        }
      ]
    },
    {
      "cell_type": "code",
      "source": [
        "#25.Write a code to check if the key \"city\" exists in the dictionary {'name': 'Alice', 'city': 'Paris'}.\n",
        "person = {'name': 'Alice', 'city': 'Paris'}\n",
        "\n",
        "if 'city' in person:\n",
        "    print(\"Key 'city' exists in the dictionary.\")\n",
        "else:\n",
        "    print(\"Key 'city' does not exist in the dictionary.\")"
      ],
      "metadata": {
        "colab": {
          "base_uri": "https://localhost:8080/"
        },
        "id": "vqVi-2CWFg3y",
        "outputId": "d34863f0-19f3-467b-e556-0fc9c3e0caf3"
      },
      "execution_count": 32,
      "outputs": [
        {
          "output_type": "stream",
          "name": "stdout",
          "text": [
            "Key 'city' exists in the dictionary.\n"
          ]
        }
      ]
    },
    {
      "cell_type": "code",
      "source": [
        "#26.Write a code to create a list, a tuple, and a dictionary, and print them all.\n",
        "my_list = [1, 2, 3, 4, 5]\n",
        "\n",
        "my_tuple = ('apple', 'banana', 'cherry')\n",
        "\n",
        "my_dict = {'name': 'Alice', 'age': 25, 'city': 'New York'}\n",
        "\n",
        "print(\"List:\", my_list)\n",
        "print(\"Tuple:\", my_tuple)\n",
        "print(\"Dictionary:\", my_dict)"
      ],
      "metadata": {
        "colab": {
          "base_uri": "https://localhost:8080/"
        },
        "id": "ICLUdVYOFgzD",
        "outputId": "10bb37a7-1f98-4902-cae4-bc737e5f8430"
      },
      "execution_count": 33,
      "outputs": [
        {
          "output_type": "stream",
          "name": "stdout",
          "text": [
            "List: [1, 2, 3, 4, 5]\n",
            "Tuple: ('apple', 'banana', 'cherry')\n",
            "Dictionary: {'name': 'Alice', 'age': 25, 'city': 'New York'}\n"
          ]
        }
      ]
    },
    {
      "cell_type": "code",
      "source": [
        "#27.Write a code to create a list of 5 random numbers between 1 and 100, sort it in ascending order, and print the result.(replaced)\n",
        "import random\n",
        "\n",
        "random_numbers = [random.randint(1, 100) for _ in range(5)]\n",
        "\n",
        "random_numbers.sort()\n",
        "\n",
        "print(\"Sorted List:\", random_numbers)\n"
      ],
      "metadata": {
        "colab": {
          "base_uri": "https://localhost:8080/"
        },
        "id": "fQ0ZzqcLFgqy",
        "outputId": "458e0899-dcdb-4cd9-f5b8-4eaab0105976"
      },
      "execution_count": 38,
      "outputs": [
        {
          "output_type": "stream",
          "name": "stdout",
          "text": [
            "Sorted List: [27, 38, 55, 61, 94]\n"
          ]
        }
      ]
    },
    {
      "cell_type": "code",
      "source": [
        "#28.Write a code to create a list with strings and print the element at the third index.\n",
        "words = [\"apple\", \"banana\", \"cherry\", \"date\", \"elderberry\"]\n",
        "print(\"Element at index 3:\", words[3])"
      ],
      "metadata": {
        "colab": {
          "base_uri": "https://localhost:8080/"
        },
        "id": "mw7VKwOTLbfH",
        "outputId": "893242cc-2edc-45ee-a1ef-676cd9bc8901"
      },
      "execution_count": 39,
      "outputs": [
        {
          "output_type": "stream",
          "name": "stdout",
          "text": [
            "Element at index 3: date\n"
          ]
        }
      ]
    },
    {
      "cell_type": "code",
      "source": [
        "#29. Write a code to combine two dictionaries into one and print the result.\n",
        "# Define two dictionaries\n",
        "dict1 = {'a': 1, 'b': 2}\n",
        "dict2 = {'c': 3, 'd': 4}\n",
        "\n",
        "dict1.update(dict2)\n",
        "\n",
        "print(\"Combined Dictionary:\", dict1)"
      ],
      "metadata": {
        "colab": {
          "base_uri": "https://localhost:8080/"
        },
        "id": "C3LHSUAMLbS7",
        "outputId": "a4b0a32c-3d85-48aa-a660-2fa06f98e4cd"
      },
      "execution_count": 40,
      "outputs": [
        {
          "output_type": "stream",
          "name": "stdout",
          "text": [
            "Combined Dictionary: {'a': 1, 'b': 2, 'c': 3, 'd': 4}\n"
          ]
        }
      ]
    },
    {
      "cell_type": "code",
      "source": [
        "#30. Write a code to convert a list of strings into a set.\n",
        "fruits = [\"apple\", \"banana\", \"cherry\", \"apple\", \"banana\"]\n",
        "\n",
        "fruits_set = set(fruits)\n",
        "\n",
        "print(\"Set:\", fruits_set)"
      ],
      "metadata": {
        "colab": {
          "base_uri": "https://localhost:8080/"
        },
        "id": "JoLdv1x_LbMJ",
        "outputId": "a73afb68-aaaa-430f-fea7-6ccb0502172a"
      },
      "execution_count": 41,
      "outputs": [
        {
          "output_type": "stream",
          "name": "stdout",
          "text": [
            "Set: {'banana', 'cherry', 'apple'}\n"
          ]
        }
      ]
    }
  ]
}